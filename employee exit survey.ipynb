{
 "cells": [
  {
   "cell_type": "markdown",
   "metadata": {
    "collapsed": true
   },
   "source": [
    "## Clean And Analyze Employee Exit Surveys\n",
    "\n",
    "In this project, we'll work with exit surveys from employees of the Department of Education, Training and Employment (DETE) and the Technical and Further Education (TAFE) institute in Queensland, Australia. \n",
    "You can find the TAFE exit survey [here](https://data.gov.au/dataset/ds-qld-89970a3b-182b-41ea-aea2-6f9f17b5907e/details?q=exit%20survey)\n",
    "and the survey for the DETE [here](https://data.gov.au/dataset/ds-qld-fe96ff30-d157-4a81-851d-215f2a0fe26d/details?q=exit%20survey).\n",
    "\n",
    "In this project, we'll play the role of data analyst and pretend our stakeholders want to know the following:\n",
    "\n",
    "   + Are employees who only worked for the institutes for a short period of time resigning due to some kind of dissatisfaction? What about employees who have been there longer?\n",
    "   + Are younger employees resigning due to some kind of dissatisfaction? What about older employees?\n",
    "They want us to combine the results for both surveys to answer these questions. However, although both used the same survey template, one of them customized some of the answers.\n",
    "\n",
    "In the first few steps, we'll aim to do most of the data cleaning and start analyzing the first question.\n",
    "\n",
    "A data dictionary wasn't provided with the dataset. In a job setting, we'd make sure to meet with a manager to confirm the definitions of the data. For this project, we'll use our general knowledge to define the columns.\n",
    "\n",
    "Below is a preview of a couple columns we'll work with from the dete_survey.csv:\n",
    "\n",
    "   + ID: An id used to identify the participant of the survey\n",
    "   + SeparationType: The reason why the person's employment ended\n",
    "   + Cease Date: The year or month the person's employment ended\n",
    "   + DETE Start Date: The year the person began employment with the DETE\n",
    "Below is a preview of a couple columns we'll work with from the tafe_survey.csv:\n",
    "\n",
    "   + Record ID: An id used to identify the participant of the survey\n",
    "   + Reason for ceasing employment: The reason why the person's employment ended\n",
    "   + LengthofServiceOverall. Overall Length of Service at Institute (in years): The length of the person's employment (in years)\n",
    "\n",
    "Let's start by reading the datasets into pandas and exploring them."
   ]
  },
  {
   "cell_type": "markdown",
   "metadata": {},
   "source": [
    "## Identify Missing Values and Drop Unnecessary Columns"
   ]
  },
  {
   "cell_type": "code",
   "execution_count": 1,
   "metadata": {
    "collapsed": false
   },
   "outputs": [
    {
     "name": "stdout",
     "output_type": "stream",
     "text": [
      "<class 'pandas.core.frame.DataFrame'>\n",
      "RangeIndex: 822 entries, 0 to 821\n",
      "Data columns (total 56 columns):\n",
      "ID                                     822 non-null int64\n",
      "SeparationType                         822 non-null object\n",
      "Cease Date                             822 non-null object\n",
      "DETE Start Date                        822 non-null object\n",
      "Role Start Date                        822 non-null object\n",
      "Position                               817 non-null object\n",
      "Classification                         455 non-null object\n",
      "Region                                 822 non-null object\n",
      "Business Unit                          126 non-null object\n",
      "Employment Status                      817 non-null object\n",
      "Career move to public sector           822 non-null bool\n",
      "Career move to private sector          822 non-null bool\n",
      "Interpersonal conflicts                822 non-null bool\n",
      "Job dissatisfaction                    822 non-null bool\n",
      "Dissatisfaction with the department    822 non-null bool\n",
      "Physical work environment              822 non-null bool\n",
      "Lack of recognition                    822 non-null bool\n",
      "Lack of job security                   822 non-null bool\n",
      "Work location                          822 non-null bool\n",
      "Employment conditions                  822 non-null bool\n",
      "Maternity/family                       822 non-null bool\n",
      "Relocation                             822 non-null bool\n",
      "Study/Travel                           822 non-null bool\n",
      "Ill Health                             822 non-null bool\n",
      "Traumatic incident                     822 non-null bool\n",
      "Work life balance                      822 non-null bool\n",
      "Workload                               822 non-null bool\n",
      "None of the above                      822 non-null bool\n",
      "Professional Development               808 non-null object\n",
      "Opportunities for promotion            735 non-null object\n",
      "Staff morale                           816 non-null object\n",
      "Workplace issue                        788 non-null object\n",
      "Physical environment                   817 non-null object\n",
      "Worklife balance                       815 non-null object\n",
      "Stress and pressure support            810 non-null object\n",
      "Performance of supervisor              813 non-null object\n",
      "Peer support                           812 non-null object\n",
      "Initiative                             813 non-null object\n",
      "Skills                                 811 non-null object\n",
      "Coach                                  767 non-null object\n",
      "Career Aspirations                     746 non-null object\n",
      "Feedback                               792 non-null object\n",
      "Further PD                             768 non-null object\n",
      "Communication                          814 non-null object\n",
      "My say                                 812 non-null object\n",
      "Information                            816 non-null object\n",
      "Kept informed                          813 non-null object\n",
      "Wellness programs                      766 non-null object\n",
      "Health & Safety                        793 non-null object\n",
      "Gender                                 798 non-null object\n",
      "Age                                    811 non-null object\n",
      "Aboriginal                             16 non-null object\n",
      "Torres Strait                          3 non-null object\n",
      "South Sea                              7 non-null object\n",
      "Disability                             23 non-null object\n",
      "NESB                                   32 non-null object\n",
      "dtypes: bool(18), int64(1), object(37)\n",
      "memory usage: 258.6+ KB\n",
      "   ID                    SeparationType Cease Date DETE Start Date  \\\n",
      "0   1             Ill Health Retirement    08/2012            1984   \n",
      "1   2  Voluntary Early Retirement (VER)    08/2012      Not Stated   \n",
      "2   3  Voluntary Early Retirement (VER)    05/2012            2011   \n",
      "3   4         Resignation-Other reasons    05/2012            2005   \n",
      "4   5                    Age Retirement    05/2012            1970   \n",
      "\n",
      "  Role Start Date                                      Position  \\\n",
      "0            2004                                Public Servant   \n",
      "1      Not Stated                                Public Servant   \n",
      "2            2011                               Schools Officer   \n",
      "3            2006                                       Teacher   \n",
      "4            1989  Head of Curriculum/Head of Special Education   \n",
      "\n",
      "  Classification              Region                      Business Unit  \\\n",
      "0        A01-A04      Central Office  Corporate Strategy and Peformance   \n",
      "1        AO5-AO7      Central Office  Corporate Strategy and Peformance   \n",
      "2            NaN      Central Office               Education Queensland   \n",
      "3        Primary  Central Queensland                                NaN   \n",
      "4            NaN          South East                                NaN   \n",
      "\n",
      "     Employment Status  ...   Kept informed  Wellness programs  \\\n",
      "0  Permanent Full-time  ...               N                  N   \n",
      "1  Permanent Full-time  ...               N                  N   \n",
      "2  Permanent Full-time  ...               N                  N   \n",
      "3  Permanent Full-time  ...               A                  N   \n",
      "4  Permanent Full-time  ...               N                  A   \n",
      "\n",
      "   Health & Safety  Gender          Age  Aboriginal  Torres Strait  South Sea  \\\n",
      "0                N    Male        56-60         NaN            NaN        NaN   \n",
      "1                N    Male        56-60         NaN            NaN        NaN   \n",
      "2                N    Male  61 or older         NaN            NaN        NaN   \n",
      "3                A  Female        36-40         NaN            NaN        NaN   \n",
      "4                M  Female  61 or older         NaN            NaN        NaN   \n",
      "\n",
      "   Disability  NESB  \n",
      "0         NaN   Yes  \n",
      "1         NaN   NaN  \n",
      "2         NaN   NaN  \n",
      "3         NaN   NaN  \n",
      "4         NaN   NaN  \n",
      "\n",
      "[5 rows x 56 columns]\n"
     ]
    },
    {
     "data": {
      "text/plain": [
       "ID                                       0\n",
       "SeparationType                           0\n",
       "Cease Date                               0\n",
       "DETE Start Date                          0\n",
       "Role Start Date                          0\n",
       "Position                                 5\n",
       "Classification                         367\n",
       "Region                                   0\n",
       "Business Unit                          696\n",
       "Employment Status                        5\n",
       "Career move to public sector             0\n",
       "Career move to private sector            0\n",
       "Interpersonal conflicts                  0\n",
       "Job dissatisfaction                      0\n",
       "Dissatisfaction with the department      0\n",
       "Physical work environment                0\n",
       "Lack of recognition                      0\n",
       "Lack of job security                     0\n",
       "Work location                            0\n",
       "Employment conditions                    0\n",
       "Maternity/family                         0\n",
       "Relocation                               0\n",
       "Study/Travel                             0\n",
       "Ill Health                               0\n",
       "Traumatic incident                       0\n",
       "Work life balance                        0\n",
       "Workload                                 0\n",
       "None of the above                        0\n",
       "Professional Development                14\n",
       "Opportunities for promotion             87\n",
       "Staff morale                             6\n",
       "Workplace issue                         34\n",
       "Physical environment                     5\n",
       "Worklife balance                         7\n",
       "Stress and pressure support             12\n",
       "Performance of supervisor                9\n",
       "Peer support                            10\n",
       "Initiative                               9\n",
       "Skills                                  11\n",
       "Coach                                   55\n",
       "Career Aspirations                      76\n",
       "Feedback                                30\n",
       "Further PD                              54\n",
       "Communication                            8\n",
       "My say                                  10\n",
       "Information                              6\n",
       "Kept informed                            9\n",
       "Wellness programs                       56\n",
       "Health & Safety                         29\n",
       "Gender                                  24\n",
       "Age                                     11\n",
       "Aboriginal                             806\n",
       "Torres Strait                          819\n",
       "South Sea                              815\n",
       "Disability                             799\n",
       "NESB                                   790\n",
       "dtype: int64"
      ]
     },
     "execution_count": 1,
     "metadata": {},
     "output_type": "execute_result"
    }
   ],
   "source": [
    "import pandas as pd\n",
    "import numpy as np\n",
    "dete_survey = pd.read_csv(\"dete_survey.csv\")\n",
    "tafe_survey = pd.read_csv(\"tafe_survey.csv\")\n",
    "#Explore dete_survey using data exploration methods.\n",
    "dete_survey.info()\n",
    "print(dete_survey.head())\n",
    "dete_survey.isnull().sum()"
   ]
  },
  {
   "cell_type": "code",
   "execution_count": 2,
   "metadata": {
    "collapsed": false
   },
   "outputs": [
    {
     "name": "stdout",
     "output_type": "stream",
     "text": [
      "<class 'pandas.core.frame.DataFrame'>\n",
      "RangeIndex: 702 entries, 0 to 701\n",
      "Data columns (total 72 columns):\n",
      "Record ID                                                                                                                                                        702 non-null float64\n",
      "Institute                                                                                                                                                        702 non-null object\n",
      "WorkArea                                                                                                                                                         702 non-null object\n",
      "CESSATION YEAR                                                                                                                                                   695 non-null float64\n",
      "Reason for ceasing employment                                                                                                                                    701 non-null object\n",
      "Contributing Factors. Career Move - Public Sector                                                                                                                437 non-null object\n",
      "Contributing Factors. Career Move - Private Sector                                                                                                               437 non-null object\n",
      "Contributing Factors. Career Move - Self-employment                                                                                                              437 non-null object\n",
      "Contributing Factors. Ill Health                                                                                                                                 437 non-null object\n",
      "Contributing Factors. Maternity/Family                                                                                                                           437 non-null object\n",
      "Contributing Factors. Dissatisfaction                                                                                                                            437 non-null object\n",
      "Contributing Factors. Job Dissatisfaction                                                                                                                        437 non-null object\n",
      "Contributing Factors. Interpersonal Conflict                                                                                                                     437 non-null object\n",
      "Contributing Factors. Study                                                                                                                                      437 non-null object\n",
      "Contributing Factors. Travel                                                                                                                                     437 non-null object\n",
      "Contributing Factors. Other                                                                                                                                      437 non-null object\n",
      "Contributing Factors. NONE                                                                                                                                       437 non-null object\n",
      "Main Factor. Which of these was the main factor for leaving?                                                                                                     113 non-null object\n",
      "InstituteViews. Topic:1. I feel the senior leadership had a clear vision and direction                                                                           608 non-null object\n",
      "InstituteViews. Topic:2. I was given access to skills training to help me do my job better                                                                       613 non-null object\n",
      "InstituteViews. Topic:3. I was given adequate opportunities for personal development                                                                             610 non-null object\n",
      "InstituteViews. Topic:4. I was given adequate opportunities for promotion within %Institute]Q25LBL%                                                              608 non-null object\n",
      "InstituteViews. Topic:5. I felt the salary for the job was right for the responsibilities I had                                                                  615 non-null object\n",
      "InstituteViews. Topic:6. The organisation recognised when staff did good work                                                                                    607 non-null object\n",
      "InstituteViews. Topic:7. Management was generally supportive of me                                                                                               614 non-null object\n",
      "InstituteViews. Topic:8. Management was generally supportive of my team                                                                                          608 non-null object\n",
      "InstituteViews. Topic:9. I was kept informed of the changes in the organisation which would affect me                                                            610 non-null object\n",
      "InstituteViews. Topic:10. Staff morale was positive within the Institute                                                                                         602 non-null object\n",
      "InstituteViews. Topic:11. If I had a workplace issue it was dealt with quickly                                                                                   601 non-null object\n",
      "InstituteViews. Topic:12. If I had a workplace issue it was dealt with efficiently                                                                               597 non-null object\n",
      "InstituteViews. Topic:13. If I had a workplace issue it was dealt with discreetly                                                                                601 non-null object\n",
      "WorkUnitViews. Topic:14. I was satisfied with the quality of the management and supervision within my work unit                                                  609 non-null object\n",
      "WorkUnitViews. Topic:15. I worked well with my colleagues                                                                                                        605 non-null object\n",
      "WorkUnitViews. Topic:16. My job was challenging and interesting                                                                                                  607 non-null object\n",
      "WorkUnitViews. Topic:17. I was encouraged to use my initiative in the course of my work                                                                          610 non-null object\n",
      "WorkUnitViews. Topic:18. I had sufficient contact with other people in my job                                                                                    613 non-null object\n",
      "WorkUnitViews. Topic:19. I was given adequate support and co-operation by my peers to enable me to do my job                                                     609 non-null object\n",
      "WorkUnitViews. Topic:20. I was able to use the full range of my skills in my job                                                                                 609 non-null object\n",
      "WorkUnitViews. Topic:21. I was able to use the full range of my abilities in my job. ; Category:Level of Agreement; Question:YOUR VIEWS ABOUT YOUR WORK UNIT]    608 non-null object\n",
      "WorkUnitViews. Topic:22. I was able to use the full range of my knowledge in my job                                                                              608 non-null object\n",
      "WorkUnitViews. Topic:23. My job provided sufficient variety                                                                                                      611 non-null object\n",
      "WorkUnitViews. Topic:24. I was able to cope with the level of stress and pressure in my job                                                                      610 non-null object\n",
      "WorkUnitViews. Topic:25. My job allowed me to balance the demands of work and family to my satisfaction                                                          611 non-null object\n",
      "WorkUnitViews. Topic:26. My supervisor gave me adequate personal recognition and feedback on my performance                                                      606 non-null object\n",
      "WorkUnitViews. Topic:27. My working environment was satisfactory e.g. sufficient space, good lighting, suitable seating and working area                         610 non-null object\n",
      "WorkUnitViews. Topic:28. I was given the opportunity to mentor and coach others in order for me to pass on my skills and knowledge prior to my cessation date    609 non-null object\n",
      "WorkUnitViews. Topic:29. There was adequate communication between staff in my unit                                                                               603 non-null object\n",
      "WorkUnitViews. Topic:30. Staff morale was positive within my work unit                                                                                           606 non-null object\n",
      "Induction. Did you undertake Workplace Induction?                                                                                                                619 non-null object\n",
      "InductionInfo. Topic:Did you undertake a Corporate Induction?                                                                                                    432 non-null object\n",
      "InductionInfo. Topic:Did you undertake a Institute Induction?                                                                                                    483 non-null object\n",
      "InductionInfo. Topic: Did you undertake Team Induction?                                                                                                          440 non-null object\n",
      "InductionInfo. Face to Face Topic:Did you undertake a Corporate Induction; Category:How it was conducted?                                                        555 non-null object\n",
      "InductionInfo. On-line Topic:Did you undertake a Corporate Induction; Category:How it was conducted?                                                             555 non-null object\n",
      "InductionInfo. Induction Manual Topic:Did you undertake a Corporate Induction?                                                                                   555 non-null object\n",
      "InductionInfo. Face to Face Topic:Did you undertake a Institute Induction?                                                                                       530 non-null object\n",
      "InductionInfo. On-line Topic:Did you undertake a Institute Induction?                                                                                            555 non-null object\n",
      "InductionInfo. Induction Manual Topic:Did you undertake a Institute Induction?                                                                                   553 non-null object\n",
      "InductionInfo. Face to Face Topic: Did you undertake Team Induction; Category?                                                                                   555 non-null object\n",
      "InductionInfo. On-line Topic: Did you undertake Team Induction?process you undertook and how it was conducted.]                                                  555 non-null object\n",
      "InductionInfo. Induction Manual Topic: Did you undertake Team Induction?                                                                                         555 non-null object\n",
      "Workplace. Topic:Did you and your Manager develop a Performance and Professional Development Plan (PPDP)?                                                        608 non-null object\n",
      "Workplace. Topic:Does your workplace promote a work culture free from all forms of unlawful discrimination?                                                      594 non-null object\n",
      "Workplace. Topic:Does your workplace promote and practice the principles of employment equity?                                                                   587 non-null object\n",
      "Workplace. Topic:Does your workplace value the diversity of its employees?                                                                                       586 non-null object\n",
      "Workplace. Topic:Would you recommend the Institute as an employer to others?                                                                                     581 non-null object\n",
      "Gender. What is your Gender?                                                                                                                                     596 non-null object\n",
      "CurrentAge. Current Age                                                                                                                                          596 non-null object\n",
      "Employment Type. Employment Type                                                                                                                                 596 non-null object\n",
      "Classification. Classification                                                                                                                                   596 non-null object\n",
      "LengthofServiceOverall. Overall Length of Service at Institute (in years)                                                                                        596 non-null object\n",
      "LengthofServiceCurrent. Length of Service at current workplace (in years)                                                                                        596 non-null object\n",
      "dtypes: float64(2), object(70)\n",
      "memory usage: 395.0+ KB\n",
      "      Record ID                              Institute  \\\n",
      "0  6.341330e+17  Southern Queensland Institute of TAFE   \n",
      "1  6.341337e+17            Mount Isa Institute of TAFE   \n",
      "2  6.341388e+17            Mount Isa Institute of TAFE   \n",
      "3  6.341399e+17            Mount Isa Institute of TAFE   \n",
      "4  6.341466e+17  Southern Queensland Institute of TAFE   \n",
      "\n",
      "                   WorkArea  CESSATION YEAR Reason for ceasing employment  \\\n",
      "0  Non-Delivery (corporate)          2010.0              Contract Expired   \n",
      "1  Non-Delivery (corporate)          2010.0                    Retirement   \n",
      "2       Delivery (teaching)          2010.0                    Retirement   \n",
      "3  Non-Delivery (corporate)          2010.0                   Resignation   \n",
      "4       Delivery (teaching)          2010.0                   Resignation   \n",
      "\n",
      "  Contributing Factors. Career Move - Public Sector   \\\n",
      "0                                                NaN   \n",
      "1                                                  -   \n",
      "2                                                  -   \n",
      "3                                                  -   \n",
      "4                                                  -   \n",
      "\n",
      "  Contributing Factors. Career Move - Private Sector   \\\n",
      "0                                                NaN    \n",
      "1                                                  -    \n",
      "2                                                  -    \n",
      "3                                                  -    \n",
      "4                       Career Move - Private Sector    \n",
      "\n",
      "  Contributing Factors. Career Move - Self-employment  \\\n",
      "0                                                NaN    \n",
      "1                                                  -    \n",
      "2                                                  -    \n",
      "3                                                  -    \n",
      "4                                                  -    \n",
      "\n",
      "  Contributing Factors. Ill Health Contributing Factors. Maternity/Family  \\\n",
      "0                              NaN                                    NaN   \n",
      "1                                -                                      -   \n",
      "2                                -                                      -   \n",
      "3                                -                                      -   \n",
      "4                                -                                      -   \n",
      "\n",
      "                                     ...                                     \\\n",
      "0                                    ...                                      \n",
      "1                                    ...                                      \n",
      "2                                    ...                                      \n",
      "3                                    ...                                      \n",
      "4                                    ...                                      \n",
      "\n",
      "  Workplace. Topic:Does your workplace promote a work culture free from all forms of unlawful discrimination?  \\\n",
      "0                                                Yes                                                            \n",
      "1                                                Yes                                                            \n",
      "2                                                Yes                                                            \n",
      "3                                                Yes                                                            \n",
      "4                                                Yes                                                            \n",
      "\n",
      "  Workplace. Topic:Does your workplace promote and practice the principles of employment equity?  \\\n",
      "0                                                Yes                                               \n",
      "1                                                Yes                                               \n",
      "2                                                Yes                                               \n",
      "3                                                Yes                                               \n",
      "4                                                Yes                                               \n",
      "\n",
      "  Workplace. Topic:Does your workplace value the diversity of its employees?  \\\n",
      "0                                                Yes                           \n",
      "1                                                Yes                           \n",
      "2                                                Yes                           \n",
      "3                                                Yes                           \n",
      "4                                                Yes                           \n",
      "\n",
      "  Workplace. Topic:Would you recommend the Institute as an employer to others?  \\\n",
      "0                                                Yes                             \n",
      "1                                                Yes                             \n",
      "2                                                Yes                             \n",
      "3                                                Yes                             \n",
      "4                                                Yes                             \n",
      "\n",
      "  Gender. What is your Gender? CurrentAge. Current Age  \\\n",
      "0                       Female                  26  30   \n",
      "1                          NaN                     NaN   \n",
      "2                          NaN                     NaN   \n",
      "3                          NaN                     NaN   \n",
      "4                         Male                  41  45   \n",
      "\n",
      "  Employment Type. Employment Type Classification. Classification  \\\n",
      "0              Temporary Full-time            Administration (AO)   \n",
      "1                              NaN                            NaN   \n",
      "2                              NaN                            NaN   \n",
      "3                              NaN                            NaN   \n",
      "4              Permanent Full-time        Teacher (including LVT)   \n",
      "\n",
      "  LengthofServiceOverall. Overall Length of Service at Institute (in years)  \\\n",
      "0                                                1-2                          \n",
      "1                                                NaN                          \n",
      "2                                                NaN                          \n",
      "3                                                NaN                          \n",
      "4                                                3-4                          \n",
      "\n",
      "  LengthofServiceCurrent. Length of Service at current workplace (in years)  \n",
      "0                                                1-2                         \n",
      "1                                                NaN                         \n",
      "2                                                NaN                         \n",
      "3                                                NaN                         \n",
      "4                                                3-4                         \n",
      "\n",
      "[5 rows x 72 columns]\n"
     ]
    },
    {
     "data": {
      "text/plain": [
       "Record ID                                                                                                                                                          0\n",
       "Institute                                                                                                                                                          0\n",
       "WorkArea                                                                                                                                                           0\n",
       "CESSATION YEAR                                                                                                                                                     7\n",
       "Reason for ceasing employment                                                                                                                                      1\n",
       "Contributing Factors. Career Move - Public Sector                                                                                                                265\n",
       "Contributing Factors. Career Move - Private Sector                                                                                                               265\n",
       "Contributing Factors. Career Move - Self-employment                                                                                                              265\n",
       "Contributing Factors. Ill Health                                                                                                                                 265\n",
       "Contributing Factors. Maternity/Family                                                                                                                           265\n",
       "Contributing Factors. Dissatisfaction                                                                                                                            265\n",
       "Contributing Factors. Job Dissatisfaction                                                                                                                        265\n",
       "Contributing Factors. Interpersonal Conflict                                                                                                                     265\n",
       "Contributing Factors. Study                                                                                                                                      265\n",
       "Contributing Factors. Travel                                                                                                                                     265\n",
       "Contributing Factors. Other                                                                                                                                      265\n",
       "Contributing Factors. NONE                                                                                                                                       265\n",
       "Main Factor. Which of these was the main factor for leaving?                                                                                                     589\n",
       "InstituteViews. Topic:1. I feel the senior leadership had a clear vision and direction                                                                            94\n",
       "InstituteViews. Topic:2. I was given access to skills training to help me do my job better                                                                        89\n",
       "InstituteViews. Topic:3. I was given adequate opportunities for personal development                                                                              92\n",
       "InstituteViews. Topic:4. I was given adequate opportunities for promotion within %Institute]Q25LBL%                                                               94\n",
       "InstituteViews. Topic:5. I felt the salary for the job was right for the responsibilities I had                                                                   87\n",
       "InstituteViews. Topic:6. The organisation recognised when staff did good work                                                                                     95\n",
       "InstituteViews. Topic:7. Management was generally supportive of me                                                                                                88\n",
       "InstituteViews. Topic:8. Management was generally supportive of my team                                                                                           94\n",
       "InstituteViews. Topic:9. I was kept informed of the changes in the organisation which would affect me                                                             92\n",
       "InstituteViews. Topic:10. Staff morale was positive within the Institute                                                                                         100\n",
       "InstituteViews. Topic:11. If I had a workplace issue it was dealt with quickly                                                                                   101\n",
       "InstituteViews. Topic:12. If I had a workplace issue it was dealt with efficiently                                                                               105\n",
       "                                                                                                                                                                ... \n",
       "WorkUnitViews. Topic:25. My job allowed me to balance the demands of work and family to my satisfaction                                                           91\n",
       "WorkUnitViews. Topic:26. My supervisor gave me adequate personal recognition and feedback on my performance                                                       96\n",
       "WorkUnitViews. Topic:27. My working environment was satisfactory e.g. sufficient space, good lighting, suitable seating and working area                          92\n",
       "WorkUnitViews. Topic:28. I was given the opportunity to mentor and coach others in order for me to pass on my skills and knowledge prior to my cessation date     93\n",
       "WorkUnitViews. Topic:29. There was adequate communication between staff in my unit                                                                                99\n",
       "WorkUnitViews. Topic:30. Staff morale was positive within my work unit                                                                                            96\n",
       "Induction. Did you undertake Workplace Induction?                                                                                                                 83\n",
       "InductionInfo. Topic:Did you undertake a Corporate Induction?                                                                                                    270\n",
       "InductionInfo. Topic:Did you undertake a Institute Induction?                                                                                                    219\n",
       "InductionInfo. Topic: Did you undertake Team Induction?                                                                                                          262\n",
       "InductionInfo. Face to Face Topic:Did you undertake a Corporate Induction; Category:How it was conducted?                                                        147\n",
       "InductionInfo. On-line Topic:Did you undertake a Corporate Induction; Category:How it was conducted?                                                             147\n",
       "InductionInfo. Induction Manual Topic:Did you undertake a Corporate Induction?                                                                                   147\n",
       "InductionInfo. Face to Face Topic:Did you undertake a Institute Induction?                                                                                       172\n",
       "InductionInfo. On-line Topic:Did you undertake a Institute Induction?                                                                                            147\n",
       "InductionInfo. Induction Manual Topic:Did you undertake a Institute Induction?                                                                                   149\n",
       "InductionInfo. Face to Face Topic: Did you undertake Team Induction; Category?                                                                                   147\n",
       "InductionInfo. On-line Topic: Did you undertake Team Induction?process you undertook and how it was conducted.]                                                  147\n",
       "InductionInfo. Induction Manual Topic: Did you undertake Team Induction?                                                                                         147\n",
       "Workplace. Topic:Did you and your Manager develop a Performance and Professional Development Plan (PPDP)?                                                         94\n",
       "Workplace. Topic:Does your workplace promote a work culture free from all forms of unlawful discrimination?                                                      108\n",
       "Workplace. Topic:Does your workplace promote and practice the principles of employment equity?                                                                   115\n",
       "Workplace. Topic:Does your workplace value the diversity of its employees?                                                                                       116\n",
       "Workplace. Topic:Would you recommend the Institute as an employer to others?                                                                                     121\n",
       "Gender. What is your Gender?                                                                                                                                     106\n",
       "CurrentAge. Current Age                                                                                                                                          106\n",
       "Employment Type. Employment Type                                                                                                                                 106\n",
       "Classification. Classification                                                                                                                                   106\n",
       "LengthofServiceOverall. Overall Length of Service at Institute (in years)                                                                                        106\n",
       "LengthofServiceCurrent. Length of Service at current workplace (in years)                                                                                        106\n",
       "Length: 72, dtype: int64"
      ]
     },
     "execution_count": 2,
     "metadata": {},
     "output_type": "execute_result"
    }
   ],
   "source": [
    "#Explore tafe_survey using data exploration methods.\n",
    "tafe_survey.info()\n",
    "print(tafe_survey.head())\n",
    "tafe_survey.isnull().sum()"
   ]
  },
  {
   "cell_type": "markdown",
   "metadata": {},
   "source": [
    "From the above results, we can make the conclusions as follows:\n",
    "   + Both dataframes include missing values.\n",
    "   + The dete_survey dataframe contains 'Not Stated' values that indicate missing values, but they are not represented as NaN.\n",
    "   + For both dataframes, some columns are not needed for our analysis.\n",
    "   + Both dataframes have several common columns, such as job dissatisfaction, but some of them with different names.\n",
    "\n",
    "Next, we will take actions to clean and reshape our data."
   ]
  },
  {
   "cell_type": "markdown",
   "metadata": {},
   "source": [
    "To start, we'll handle the first three issues. Recall that we can use the pd.read_csv() function to specify values that should be represented as NaN. We'll use this function to fix the missing values first. Then, we'll drop columns we know we don't need for our analysis."
   ]
  },
  {
   "cell_type": "code",
   "execution_count": 3,
   "metadata": {
    "collapsed": false
   },
   "outputs": [
    {
     "name": "stdout",
     "output_type": "stream",
     "text": [
      "   ID                    SeparationType Cease Date  DETE Start Date  \\\n",
      "0   1             Ill Health Retirement    08/2012           1984.0   \n",
      "1   2  Voluntary Early Retirement (VER)    08/2012              NaN   \n",
      "2   3  Voluntary Early Retirement (VER)    05/2012           2011.0   \n",
      "3   4         Resignation-Other reasons    05/2012           2005.0   \n",
      "4   5                    Age Retirement    05/2012           1970.0   \n",
      "\n",
      "   Role Start Date                                      Position  \\\n",
      "0           2004.0                                Public Servant   \n",
      "1              NaN                                Public Servant   \n",
      "2           2011.0                               Schools Officer   \n",
      "3           2006.0                                       Teacher   \n",
      "4           1989.0  Head of Curriculum/Head of Special Education   \n",
      "\n",
      "  Classification              Region                      Business Unit  \\\n",
      "0        A01-A04      Central Office  Corporate Strategy and Peformance   \n",
      "1        AO5-AO7      Central Office  Corporate Strategy and Peformance   \n",
      "2            NaN      Central Office               Education Queensland   \n",
      "3        Primary  Central Queensland                                NaN   \n",
      "4            NaN          South East                                NaN   \n",
      "\n",
      "     Employment Status  ...   Kept informed  Wellness programs  \\\n",
      "0  Permanent Full-time  ...               N                  N   \n",
      "1  Permanent Full-time  ...               N                  N   \n",
      "2  Permanent Full-time  ...               N                  N   \n",
      "3  Permanent Full-time  ...               A                  N   \n",
      "4  Permanent Full-time  ...               N                  A   \n",
      "\n",
      "   Health & Safety  Gender          Age  Aboriginal  Torres Strait  South Sea  \\\n",
      "0                N    Male        56-60         NaN            NaN        NaN   \n",
      "1                N    Male        56-60         NaN            NaN        NaN   \n",
      "2                N    Male  61 or older         NaN            NaN        NaN   \n",
      "3                A  Female        36-40         NaN            NaN        NaN   \n",
      "4                M  Female  61 or older         NaN            NaN        NaN   \n",
      "\n",
      "   Disability  NESB  \n",
      "0         NaN   Yes  \n",
      "1         NaN   NaN  \n",
      "2         NaN   NaN  \n",
      "3         NaN   NaN  \n",
      "4         NaN   NaN  \n",
      "\n",
      "[5 rows x 56 columns]\n"
     ]
    }
   ],
   "source": [
    "#Read the dete_survey.csv CSV file into pandas again, but this time read the Not Stated values in as NaN.\n",
    "dete_survey = pd.read_csv(\"dete_survey.csv\", na_values = 'Not Stated')\n",
    "print(dete_survey.head())"
   ]
  },
  {
   "cell_type": "markdown",
   "metadata": {},
   "source": [
    "Then, let's drop some columns from each dataframe that we won't use in our analysis to make the dataframes easier to work with."
   ]
  },
  {
   "cell_type": "code",
   "execution_count": 4,
   "metadata": {
    "collapsed": false
   },
   "outputs": [
    {
     "name": "stdout",
     "output_type": "stream",
     "text": [
      "<class 'pandas.core.frame.DataFrame'>\n",
      "RangeIndex: 822 entries, 0 to 821\n",
      "Data columns (total 35 columns):\n",
      "ID                                     822 non-null int64\n",
      "SeparationType                         822 non-null object\n",
      "Cease Date                             788 non-null object\n",
      "DETE Start Date                        749 non-null float64\n",
      "Role Start Date                        724 non-null float64\n",
      "Position                               817 non-null object\n",
      "Classification                         455 non-null object\n",
      "Region                                 717 non-null object\n",
      "Business Unit                          126 non-null object\n",
      "Employment Status                      817 non-null object\n",
      "Career move to public sector           822 non-null bool\n",
      "Career move to private sector          822 non-null bool\n",
      "Interpersonal conflicts                822 non-null bool\n",
      "Job dissatisfaction                    822 non-null bool\n",
      "Dissatisfaction with the department    822 non-null bool\n",
      "Physical work environment              822 non-null bool\n",
      "Lack of recognition                    822 non-null bool\n",
      "Lack of job security                   822 non-null bool\n",
      "Work location                          822 non-null bool\n",
      "Employment conditions                  822 non-null bool\n",
      "Maternity/family                       822 non-null bool\n",
      "Relocation                             822 non-null bool\n",
      "Study/Travel                           822 non-null bool\n",
      "Ill Health                             822 non-null bool\n",
      "Traumatic incident                     822 non-null bool\n",
      "Work life balance                      822 non-null bool\n",
      "Workload                               822 non-null bool\n",
      "None of the above                      822 non-null bool\n",
      "Gender                                 798 non-null object\n",
      "Age                                    811 non-null object\n",
      "Aboriginal                             16 non-null object\n",
      "Torres Strait                          3 non-null object\n",
      "South Sea                              7 non-null object\n",
      "Disability                             23 non-null object\n",
      "NESB                                   32 non-null object\n",
      "dtypes: bool(18), float64(2), int64(1), object(14)\n",
      "memory usage: 123.7+ KB\n"
     ]
    }
   ],
   "source": [
    "dete_survey_updated = dete_survey.drop(dete_survey.iloc[:, 28:49], axis = 1)\n",
    "dete_survey_updated.info()"
   ]
  },
  {
   "cell_type": "code",
   "execution_count": 5,
   "metadata": {
    "collapsed": false
   },
   "outputs": [
    {
     "name": "stdout",
     "output_type": "stream",
     "text": [
      "<class 'pandas.core.frame.DataFrame'>\n",
      "RangeIndex: 702 entries, 0 to 701\n",
      "Data columns (total 23 columns):\n",
      "Record ID                                                                    702 non-null float64\n",
      "Institute                                                                    702 non-null object\n",
      "WorkArea                                                                     702 non-null object\n",
      "CESSATION YEAR                                                               695 non-null float64\n",
      "Reason for ceasing employment                                                701 non-null object\n",
      "Contributing Factors. Career Move - Public Sector                            437 non-null object\n",
      "Contributing Factors. Career Move - Private Sector                           437 non-null object\n",
      "Contributing Factors. Career Move - Self-employment                          437 non-null object\n",
      "Contributing Factors. Ill Health                                             437 non-null object\n",
      "Contributing Factors. Maternity/Family                                       437 non-null object\n",
      "Contributing Factors. Dissatisfaction                                        437 non-null object\n",
      "Contributing Factors. Job Dissatisfaction                                    437 non-null object\n",
      "Contributing Factors. Interpersonal Conflict                                 437 non-null object\n",
      "Contributing Factors. Study                                                  437 non-null object\n",
      "Contributing Factors. Travel                                                 437 non-null object\n",
      "Contributing Factors. Other                                                  437 non-null object\n",
      "Contributing Factors. NONE                                                   437 non-null object\n",
      "Gender. What is your Gender?                                                 596 non-null object\n",
      "CurrentAge. Current Age                                                      596 non-null object\n",
      "Employment Type. Employment Type                                             596 non-null object\n",
      "Classification. Classification                                               596 non-null object\n",
      "LengthofServiceOverall. Overall Length of Service at Institute (in years)    596 non-null object\n",
      "LengthofServiceCurrent. Length of Service at current workplace (in years)    596 non-null object\n",
      "dtypes: float64(2), object(21)\n",
      "memory usage: 126.2+ KB\n"
     ]
    }
   ],
   "source": [
    "tafe_survey_updated = tafe_survey.drop(tafe_survey.iloc[:, 17:66], axis = 1)\n",
    "tafe_survey_updated.info()"
   ]
  },
  {
   "cell_type": "markdown",
   "metadata": {},
   "source": [
    "## Clean Column Names\n",
    "\n",
    "Next, let's turn our attention to the column names. Each dataframe contains many of the same columns, but the column names are different. Below are some of the columns we'd like to use for our final analysis:\n",
    "\n",
    "| dete_survey     | tafe_survey                                                               | Definition                                              |\n",
    "|-----------------|---------------------------------------------------------------------------|---------------------------------------------------------|\n",
    "| ID              | Record ID                                                                 | An id used to identify the participant of the survey    |\n",
    "| SeparationType  | Reason for ceasing employment                                             | The reason why the participant's employment ended       |\n",
    "| Cease Date      | CESSATION YEAR                                                            | The year or month the participant's employment ended    |\n",
    "| DETE Start Date |                                                                           | The year the participant began employment with the DETE |\n",
    "|                 | LengthofServiceOverall. Overall Length of Service at Institute (in years) | The length of the person's employment (in years)        |\n",
    "| Age             | CurrentAge. Current Age                                                   | The age of the participant                              |\n",
    "| Gender          | Gender. What is your Gender?                                              | The gender of the participant                           |"
   ]
  },
  {
   "cell_type": "markdown",
   "metadata": {},
   "source": [
    "Because we eventually want to combine them, we'll have to standardize the column names. \n",
    "Rename the remaining columns in the dete_survey_updated dataframe.\n",
    "Use the following criteria to update the column names:\n",
    "   + Make all the capitalization lowercase.\n",
    "   + Remove any trailing whitespace from the end of the strings.\n",
    "   + Replace spaces with underscores ('_').\n",
    "\n",
    "Use the DataFrame.rename() method to update the columns below in tafe_survey_updated.  We'll handle the rest of the column names later.\n",
    "   + 'Record ID': 'id'\n",
    "   + 'CESSATION YEAR': 'cease_date'\n",
    "   + 'Reason for ceasing employment': 'separationtype'\n",
    "   + 'Gender. What is your Gender?': 'gender'\n",
    "   + 'CurrentAge. Current Age': 'age'\n",
    "   + 'Employment Type. Employment Type': 'employment_status'\n",
    "   + 'Classification. Classification': 'position'\n",
    "   + 'LengthofServiceOverall. Overall Length of Service at Institute (in years)': 'institute_service'\n",
    "   + 'LengthofServiceCurrent. Length of Service at current workplace (in years)': 'role_service'"
   ]
  },
  {
   "cell_type": "code",
   "execution_count": 6,
   "metadata": {
    "collapsed": true
   },
   "outputs": [],
   "source": [
    "dete_survey_updated.columns = dete_survey_updated.columns.str.strip().str.replace(' ', '_').str.lower()\n",
    "column_names = {'Record ID': 'id',\n",
    "                'CESSATION YEAR': 'cease_date', \n",
    "                'Reason for ceasing employment': 'separationtype', \n",
    "                'Gender. What is your Gender?': 'gender', \n",
    "                'CurrentAge. Current Age': 'age',\n",
    "                'Employment Type. Employment Type': 'employment_status',\n",
    "                'Classification. Classification': 'position',\n",
    "                'LengthofServiceOverall. Overall Length of Service at Institute (in years)': 'institute_service',\n",
    "                'LengthofServiceCurrent. Length of Service at current workplace (in years)': 'role_service'}\n",
    "tafe_survey_updated = tafe_survey_updated.rename(column_names, axis = 1)"
   ]
  },
  {
   "cell_type": "markdown",
   "metadata": {},
   "source": [
    "Let's check the current status of the two dataframes and make sure our changes look good."
   ]
  },
  {
   "cell_type": "code",
   "execution_count": 7,
   "metadata": {
    "collapsed": false
   },
   "outputs": [
    {
     "name": "stdout",
     "output_type": "stream",
     "text": [
      "   id                    separationtype cease_date  dete_start_date  \\\n",
      "0   1             Ill Health Retirement    08/2012           1984.0   \n",
      "1   2  Voluntary Early Retirement (VER)    08/2012              NaN   \n",
      "2   3  Voluntary Early Retirement (VER)    05/2012           2011.0   \n",
      "3   4         Resignation-Other reasons    05/2012           2005.0   \n",
      "4   5                    Age Retirement    05/2012           1970.0   \n",
      "\n",
      "   role_start_date                                      position  \\\n",
      "0           2004.0                                Public Servant   \n",
      "1              NaN                                Public Servant   \n",
      "2           2011.0                               Schools Officer   \n",
      "3           2006.0                                       Teacher   \n",
      "4           1989.0  Head of Curriculum/Head of Special Education   \n",
      "\n",
      "  classification              region                      business_unit  \\\n",
      "0        A01-A04      Central Office  Corporate Strategy and Peformance   \n",
      "1        AO5-AO7      Central Office  Corporate Strategy and Peformance   \n",
      "2            NaN      Central Office               Education Queensland   \n",
      "3        Primary  Central Queensland                                NaN   \n",
      "4            NaN          South East                                NaN   \n",
      "\n",
      "     employment_status  ...   work_life_balance  workload  none_of_the_above  \\\n",
      "0  Permanent Full-time  ...               False     False               True   \n",
      "1  Permanent Full-time  ...               False     False              False   \n",
      "2  Permanent Full-time  ...               False     False               True   \n",
      "3  Permanent Full-time  ...               False     False              False   \n",
      "4  Permanent Full-time  ...                True     False              False   \n",
      "\n",
      "   gender          age  aboriginal  torres_strait  south_sea  disability  nesb  \n",
      "0    Male        56-60         NaN            NaN        NaN         NaN   Yes  \n",
      "1    Male        56-60         NaN            NaN        NaN         NaN   NaN  \n",
      "2    Male  61 or older         NaN            NaN        NaN         NaN   NaN  \n",
      "3  Female        36-40         NaN            NaN        NaN         NaN   NaN  \n",
      "4  Female  61 or older         NaN            NaN        NaN         NaN   NaN  \n",
      "\n",
      "[5 rows x 35 columns]\n",
      "             id                              Institute  \\\n",
      "0  6.341330e+17  Southern Queensland Institute of TAFE   \n",
      "1  6.341337e+17            Mount Isa Institute of TAFE   \n",
      "2  6.341388e+17            Mount Isa Institute of TAFE   \n",
      "3  6.341399e+17            Mount Isa Institute of TAFE   \n",
      "4  6.341466e+17  Southern Queensland Institute of TAFE   \n",
      "\n",
      "                   WorkArea  cease_date    separationtype  \\\n",
      "0  Non-Delivery (corporate)      2010.0  Contract Expired   \n",
      "1  Non-Delivery (corporate)      2010.0        Retirement   \n",
      "2       Delivery (teaching)      2010.0        Retirement   \n",
      "3  Non-Delivery (corporate)      2010.0       Resignation   \n",
      "4       Delivery (teaching)      2010.0       Resignation   \n",
      "\n",
      "  Contributing Factors. Career Move - Public Sector   \\\n",
      "0                                                NaN   \n",
      "1                                                  -   \n",
      "2                                                  -   \n",
      "3                                                  -   \n",
      "4                                                  -   \n",
      "\n",
      "  Contributing Factors. Career Move - Private Sector   \\\n",
      "0                                                NaN    \n",
      "1                                                  -    \n",
      "2                                                  -    \n",
      "3                                                  -    \n",
      "4                       Career Move - Private Sector    \n",
      "\n",
      "  Contributing Factors. Career Move - Self-employment  \\\n",
      "0                                                NaN    \n",
      "1                                                  -    \n",
      "2                                                  -    \n",
      "3                                                  -    \n",
      "4                                                  -    \n",
      "\n",
      "  Contributing Factors. Ill Health Contributing Factors. Maternity/Family  \\\n",
      "0                              NaN                                    NaN   \n",
      "1                                -                                      -   \n",
      "2                                -                                      -   \n",
      "3                                -                                      -   \n",
      "4                                -                                      -   \n",
      "\n",
      "      ...      Contributing Factors. Study Contributing Factors. Travel  \\\n",
      "0     ...                              NaN                          NaN   \n",
      "1     ...                                -                       Travel   \n",
      "2     ...                                -                            -   \n",
      "3     ...                                -                       Travel   \n",
      "4     ...                                -                            -   \n",
      "\n",
      "  Contributing Factors. Other Contributing Factors. NONE  gender     age  \\\n",
      "0                         NaN                        NaN  Female  26  30   \n",
      "1                           -                          -     NaN     NaN   \n",
      "2                           -                       NONE     NaN     NaN   \n",
      "3                           -                          -     NaN     NaN   \n",
      "4                           -                          -    Male  41  45   \n",
      "\n",
      "     employment_status                 position institute_service role_service  \n",
      "0  Temporary Full-time      Administration (AO)               1-2          1-2  \n",
      "1                  NaN                      NaN               NaN          NaN  \n",
      "2                  NaN                      NaN               NaN          NaN  \n",
      "3                  NaN                      NaN               NaN          NaN  \n",
      "4  Permanent Full-time  Teacher (including LVT)               3-4          3-4  \n",
      "\n",
      "[5 rows x 23 columns]\n"
     ]
    }
   ],
   "source": [
    "print(dete_survey_updated.head())\n",
    "print(tafe_survey_updated.head())"
   ]
  },
  {
   "cell_type": "markdown",
   "metadata": {
    "collapsed": true
   },
   "source": [
    "## Filter the Data\n",
    "\n",
    "Next, let's remove more of the data we don't need.\n",
    "\n",
    "Recall that our end goal is to answer the following question:\n",
    "\n",
    "   + Are employees who have only worked for the institutes for a short period of time resigning due to some kind of dissatisfaction? What about employees who have been at the job longer?\n",
    "\n",
    "If we look at the unique values in the separationtype columns in each dataframe, we'll see that each contains a couple of different separation types. For this project, we'll only analyze survey respondents who resigned, so their separation type contains the string 'Resignation'."
   ]
  },
  {
   "cell_type": "code",
   "execution_count": 8,
   "metadata": {
    "collapsed": false
   },
   "outputs": [
    {
     "name": "stdout",
     "output_type": "stream",
     "text": [
      "Age Retirement                          285\n",
      "Resignation-Other reasons               150\n",
      "Resignation-Other employer               91\n",
      "Resignation-Move overseas/interstate     70\n",
      "Voluntary Early Retirement (VER)         67\n",
      "Ill Health Retirement                    61\n",
      "Other                                    49\n",
      "Contract Expired                         34\n",
      "Termination                              15\n",
      "Name: separationtype, dtype: int64\n",
      "Resignation                 340\n",
      "Contract Expired            127\n",
      "Retrenchment/ Redundancy    104\n",
      "Retirement                   82\n",
      "Transfer                     25\n",
      "Termination                  23\n",
      "Name: separationtype, dtype: int64\n"
     ]
    }
   ],
   "source": [
    "print(dete_survey_updated['separationtype'].value_counts())\n",
    "print(tafe_survey_updated['separationtype'].value_counts())"
   ]
  },
  {
   "cell_type": "markdown",
   "metadata": {},
   "source": [
    "Note that dete_survey_updated dataframe contains multiple separation types with the string 'Resignation':\n",
    "\n",
    "   + Resignation-Other reasons\n",
    "   + Resignation-Other employer\n",
    "   + Resignation-Move overseas/interstate\n",
    "\n",
    "Remember that we'll have to account for each of these variations so we don't unintentionally drop data!\n",
    "In each of dataframes, select only the data for survey respondents who have a 'Resignation' separation type.\n",
    "The dete_survey_updated dataframe contains three Resignation separation types. We want to select all of them.\n",
    "Use the DataFrame.copy() method on the result to avoid the SettingWithCopy Warning."
   ]
  },
  {
   "cell_type": "code",
   "execution_count": 9,
   "metadata": {
    "collapsed": false
   },
   "outputs": [
    {
     "name": "stdout",
     "output_type": "stream",
     "text": [
      "    id                        separationtype cease_date  dete_start_date  \\\n",
      "3    4             Resignation-Other reasons    05/2012           2005.0   \n",
      "5    6             Resignation-Other reasons    05/2012           1994.0   \n",
      "8    9             Resignation-Other reasons    07/2012           2009.0   \n",
      "9   10            Resignation-Other employer       2012           1997.0   \n",
      "11  12  Resignation-Move overseas/interstate       2012           2009.0   \n",
      "\n",
      "    role_start_date          position classification                region  \\\n",
      "3            2006.0           Teacher        Primary    Central Queensland   \n",
      "5            1997.0  Guidance Officer            NaN        Central Office   \n",
      "8            2009.0           Teacher      Secondary      North Queensland   \n",
      "9            2008.0      Teacher Aide            NaN                   NaN   \n",
      "11           2009.0           Teacher      Secondary  Far North Queensland   \n",
      "\n",
      "           business_unit    employment_status  ...   work_life_balance  \\\n",
      "3                    NaN  Permanent Full-time  ...               False   \n",
      "5   Education Queensland  Permanent Full-time  ...               False   \n",
      "8                    NaN  Permanent Full-time  ...               False   \n",
      "9                    NaN  Permanent Part-time  ...               False   \n",
      "11                   NaN  Permanent Full-time  ...               False   \n",
      "\n",
      "    workload  none_of_the_above  gender    age  aboriginal  torres_strait  \\\n",
      "3      False              False  Female  36-40         NaN            NaN   \n",
      "5      False              False  Female  41-45         NaN            NaN   \n",
      "8      False              False  Female  31-35         NaN            NaN   \n",
      "9      False              False  Female  46-50         NaN            NaN   \n",
      "11     False              False    Male  31-35         NaN            NaN   \n",
      "\n",
      "    south_sea  disability  nesb  \n",
      "3         NaN         NaN   NaN  \n",
      "5         NaN         NaN   NaN  \n",
      "8         NaN         NaN   NaN  \n",
      "9         NaN         NaN   NaN  \n",
      "11        NaN         NaN   NaN  \n",
      "\n",
      "[5 rows x 35 columns]\n",
      "             id                              Institute  \\\n",
      "3  6.341399e+17            Mount Isa Institute of TAFE   \n",
      "4  6.341466e+17  Southern Queensland Institute of TAFE   \n",
      "5  6.341475e+17  Southern Queensland Institute of TAFE   \n",
      "6  6.341520e+17         Barrier Reef Institute of TAFE   \n",
      "7  6.341537e+17  Southern Queensland Institute of TAFE   \n",
      "\n",
      "                   WorkArea  cease_date separationtype  \\\n",
      "3  Non-Delivery (corporate)      2010.0    Resignation   \n",
      "4       Delivery (teaching)      2010.0    Resignation   \n",
      "5       Delivery (teaching)      2010.0    Resignation   \n",
      "6  Non-Delivery (corporate)      2010.0    Resignation   \n",
      "7       Delivery (teaching)      2010.0    Resignation   \n",
      "\n",
      "  Contributing Factors. Career Move - Public Sector   \\\n",
      "3                                                  -   \n",
      "4                                                  -   \n",
      "5                                                  -   \n",
      "6                                                  -   \n",
      "7                                                  -   \n",
      "\n",
      "  Contributing Factors. Career Move - Private Sector   \\\n",
      "3                                                  -    \n",
      "4                       Career Move - Private Sector    \n",
      "5                                                  -    \n",
      "6                       Career Move - Private Sector    \n",
      "7                                                  -    \n",
      "\n",
      "  Contributing Factors. Career Move - Self-employment  \\\n",
      "3                                                  -    \n",
      "4                                                  -    \n",
      "5                                                  -    \n",
      "6                                                  -    \n",
      "7                                                  -    \n",
      "\n",
      "  Contributing Factors. Ill Health Contributing Factors. Maternity/Family  \\\n",
      "3                                -                                      -   \n",
      "4                                -                                      -   \n",
      "5                                -                                      -   \n",
      "6                                -                       Maternity/Family   \n",
      "7                                -                                      -   \n",
      "\n",
      "      ...      Contributing Factors. Study Contributing Factors. Travel  \\\n",
      "3     ...                                -                       Travel   \n",
      "4     ...                                -                            -   \n",
      "5     ...                                -                            -   \n",
      "6     ...                                -                            -   \n",
      "7     ...                                -                            -   \n",
      "\n",
      "  Contributing Factors. Other Contributing Factors. NONE  gender  \\\n",
      "3                           -                          -     NaN   \n",
      "4                           -                          -    Male   \n",
      "5                       Other                          -  Female   \n",
      "6                       Other                          -    Male   \n",
      "7                       Other                          -    Male   \n",
      "\n",
      "             age    employment_status                 position  \\\n",
      "3            NaN                  NaN                      NaN   \n",
      "4         41  45  Permanent Full-time  Teacher (including LVT)   \n",
      "5    56 or older      Contract/casual  Teacher (including LVT)   \n",
      "6  20 or younger  Temporary Full-time      Administration (AO)   \n",
      "7         46  50  Permanent Full-time  Teacher (including LVT)   \n",
      "\n",
      "  institute_service role_service  \n",
      "3               NaN          NaN  \n",
      "4               3-4          3-4  \n",
      "5              7-10         7-10  \n",
      "6               3-4          3-4  \n",
      "7               3-4          3-4  \n",
      "\n",
      "[5 rows x 23 columns]\n"
     ]
    }
   ],
   "source": [
    "dete_resignations_bool = dete_survey_updated['separationtype'].str.contains('Resignation')\n",
    "dete_resignations = dete_survey_updated[dete_resignations_bool].copy()\n",
    "print(dete_resignations.head())\n",
    "tafe_resignations = tafe_survey_updated[tafe_survey_updated['separationtype']=='Resignation'].copy()\n",
    "print(tafe_resignations.head())"
   ]
  },
  {
   "cell_type": "markdown",
   "metadata": {},
   "source": [
    "## Verify the Data\n",
    "\n",
    "Now, before we start cleaning and manipulating the rest of our data, let's verify that the data doesn't contain any major inconsistencies (to the best of our knowledge). \n",
    "\n",
    "It may not always be possible to catch all of these errors, but by making sure the data seems reasonable to the best of our knowledge, we can stop ourselves from completing a data analysis project that winds up being useless because of bad data.\n",
    "\n",
    "In this step, we'll focus on verifying that the years in the cease_date and dete_start_date columns make sense.\n",
    "   + Since the cease_date is the last year of the person's employment and the dete_start_date is the person's first year of employment, it wouldn't make sense to have years after the current date.\n",
    "   + Given that most people in this field start working in their 20s, it's also unlikely that the dete_start_date was before the year 1940.\n",
    "\n",
    "If we have many years higher than the current date or lower than 1940, we wouldn't want to continue with our analysis, because it could mean there's something very wrong with the data. If there are a small amount of values that are unrealistically high or low, we can remove them."
   ]
  },
  {
   "cell_type": "code",
   "execution_count": 10,
   "metadata": {
    "collapsed": false
   },
   "outputs": [
    {
     "name": "stdout",
     "output_type": "stream",
     "text": [
      "2013        74\n",
      "2012       126\n",
      "2010         1\n",
      "12/2013     17\n",
      "11/2013      9\n",
      "10/2013      6\n",
      "09/2013     11\n",
      "09/2010      1\n",
      "08/2013      4\n",
      "07/2013      9\n",
      "07/2012      1\n",
      "07/2006      1\n",
      "06/2013     14\n",
      "05/2013      2\n",
      "05/2012      2\n",
      "01/2014     22\n",
      "Name: cease_date, dtype: int64\n",
      "2013.0    10\n",
      "2012.0    21\n",
      "2011.0    24\n",
      "2010.0    17\n",
      "2009.0    13\n",
      "2008.0    22\n",
      "2007.0    21\n",
      "2006.0    13\n",
      "2005.0    15\n",
      "2004.0    14\n",
      "2003.0     6\n",
      "2002.0     6\n",
      "2001.0     3\n",
      "2000.0     9\n",
      "1999.0     8\n",
      "1998.0     6\n",
      "1997.0     5\n",
      "1996.0     6\n",
      "1995.0     4\n",
      "1994.0     6\n",
      "1993.0     5\n",
      "1992.0     6\n",
      "1991.0     4\n",
      "1990.0     5\n",
      "1989.0     4\n",
      "1988.0     4\n",
      "1987.0     1\n",
      "1986.0     3\n",
      "1985.0     3\n",
      "1984.0     1\n",
      "1983.0     2\n",
      "1982.0     1\n",
      "1980.0     5\n",
      "1977.0     1\n",
      "1976.0     2\n",
      "1975.0     1\n",
      "1974.0     2\n",
      "1973.0     1\n",
      "1972.0     1\n",
      "1971.0     1\n",
      "1963.0     1\n",
      "Name: dete_start_date, dtype: int64\n"
     ]
    }
   ],
   "source": [
    "# Clean and verify the cease_date column in dete_resignations.\n",
    "print(dete_resignations['cease_date'].value_counts().sort_index(ascending = False))\n",
    "print(dete_resignations['dete_start_date'].value_counts().sort_index(ascending = False))"
   ]
  },
  {
   "cell_type": "code",
   "execution_count": 11,
   "metadata": {
    "collapsed": false,
    "scrolled": true
   },
   "outputs": [
    {
     "name": "stdout",
     "output_type": "stream",
     "text": [
      "11\n"
     ]
    },
    {
     "data": {
      "text/plain": [
       "2006.0      1\n",
       "2010.0      2\n",
       "2012.0    129\n",
       "2013.0    146\n",
       "2014.0     22\n",
       "Name: cease_date, dtype: int64"
      ]
     },
     "execution_count": 11,
     "metadata": {},
     "output_type": "execute_result"
    }
   ],
   "source": [
    "#Let's extract year information for cease_date in dete_resignations.\n",
    "print(dete_resignations['cease_date'].isnull().sum())\n",
    "pattern = r\"/?([1-2][0-9]{3})\"\n",
    "dete_resignations['cease_date'] = dete_resignations['cease_date'].str.extract(pattern, expand = False)\n",
    "dete_resignations['cease_date']=dete_resignations['cease_date'].astype(\"float\")\n",
    "dete_resignations['cease_date'].value_counts().sort_index(ascending = True)"
   ]
  },
  {
   "cell_type": "code",
   "execution_count": 12,
   "metadata": {
    "collapsed": false,
    "scrolled": true
   },
   "outputs": [
    {
     "name": "stdout",
     "output_type": "stream",
     "text": [
      "2013.0     55\n",
      "2012.0     94\n",
      "2011.0    116\n",
      "2010.0     68\n",
      "2009.0      2\n",
      "Name: cease_date, dtype: int64\n",
      "More than 20 years    10\n",
      "Less than 1 year      73\n",
      "7-10                  21\n",
      "5-6                   33\n",
      "3-4                   63\n",
      "11-20                 26\n",
      "1-2                   64\n",
      "Name: institute_service, dtype: int64\n"
     ]
    }
   ],
   "source": [
    "#Verigy cease_date column in tafe_resignations.\n",
    "print(tafe_resignations['cease_date'].value_counts().sort_index(ascending = False))\n",
    "print(tafe_resignations['institute_service'].value_counts().sort_index(ascending = False))"
   ]
  },
  {
   "cell_type": "code",
   "execution_count": 13,
   "metadata": {
    "collapsed": false
   },
   "outputs": [
    {
     "name": "stdout",
     "output_type": "stream",
     "text": [
      "2010.0    2\n",
      "2011.0    7\n",
      "2012.0    1\n",
      "Name: cease_date, dtype: int64\n"
     ]
    }
   ],
   "source": [
    "long_service_bool = tafe_resignations['institute_service']== 'More than 20 years'\n",
    "print(tafe_resignations[long_service_bool]['cease_date'].value_counts().sort_index())"
   ]
  },
  {
   "cell_type": "markdown",
   "metadata": {},
   "source": [
    "For both dataframes, cease dates are earlier than current date. Start dates were later than 1963, which makes sense. "
   ]
  },
  {
   "cell_type": "markdown",
   "metadata": {},
   "source": [
    "## Create a New Column\n",
    "\n",
    "Now that we've verified the years in the dete_resignations dataframe, we'll use them to create a new column. Recall that our end goal is to answer the following question:\n",
    "\n",
    "   + Are employees who have only worked for the institutes for a short period of time resigning due to some kind of dissatisfaction? What about employees who have been at the job longer?\n",
    "\n",
    "In the Human Resources field, the length of time an employee spent in a workplace is referred to as their years of service.\n",
    "\n",
    "We noticed that the tafe_resignations dataframe already contains a \"service\" column, which we renamed to \"institute_service\". In order to analyze both surveys together, we'll have to create a corresponding \"institute_service\" column in dete_resignations."
   ]
  },
  {
   "cell_type": "code",
   "execution_count": 14,
   "metadata": {
    "collapsed": false
   },
   "outputs": [
    {
     "data": {
      "text/plain": [
       "3      7.0\n",
       "5     18.0\n",
       "8      3.0\n",
       "9     15.0\n",
       "11     3.0\n",
       "Name: institute_service, dtype: float64"
      ]
     },
     "execution_count": 14,
     "metadata": {},
     "output_type": "execute_result"
    }
   ],
   "source": [
    "#Create an institute_service column in dete_resignations\n",
    "dete_resignations['institute_service']=dete_resignations['cease_date']-dete_resignations['dete_start_date']\n",
    "#Check the result with Series.head() method\n",
    "dete_resignations['institute_service'].head()"
   ]
  },
  {
   "cell_type": "markdown",
   "metadata": {},
   "source": [
    "## Identify Dissatisfied Employees\n",
    "\n",
    "Previously, we created a new institute_service column that we'll use to analyze survey respondents according to their length of employment.Next, we'll identify any employees who resigned because they were dissatisfied.\n",
    "\n",
    "Below are the columns we'll use to categorize employees as \"dissatisfied\" from each dataframe. \n",
    "\n",
    "   + tafe_survey_updated:\n",
    "      + Contributing Factors. Dissatisfaction\n",
    "      + Contributing Factors. Job Dissatisfaction\n",
    "   + dafe_survey_updated:\n",
    "      + job_dissatisfaction\n",
    "      + dissatisfaction_with_the_department\n",
    "      + physical_work_environment\n",
    "      + lack_of_recognition\n",
    "      + lack_of_job_security\n",
    "      + work_location\n",
    "      + employment_conditions\n",
    "      + work_life_balance\n",
    "      + workload\n",
    "\n",
    "If the employee indicated any of the factors above caused them to resign, we'll mark them as dissatisfied in a new column.\n",
    "\n",
    "To create the new column, we'll do the following:\n",
    "   + Convert the values in the 'Contributing Factors. Dissatisfaction' and 'Contributing Factors. Job Dissatisfaction' columns in the tafe_resignations dataframe to True, False, or NaN values.\n",
    "   + If any of the columns listed above contain a True value, we'll add a True value to a new column named dissatisfied. To accomplish this, we'll use the DataFrame.any() method."
   ]
  },
  {
   "cell_type": "code",
   "execution_count": 15,
   "metadata": {
    "collapsed": false
   },
   "outputs": [
    {
     "name": "stdout",
     "output_type": "stream",
     "text": [
      "-                                         277\n",
      "Contributing Factors. Dissatisfaction      55\n",
      "Name: Contributing Factors. Dissatisfaction, dtype: int64\n",
      "-                      270\n",
      "Job Dissatisfaction     62\n",
      "Name: Contributing Factors. Job Dissatisfaction, dtype: int64\n"
     ]
    }
   ],
   "source": [
    "#View the values in the related columns in tafe_resignations dataframe\n",
    "print(tafe_resignations['Contributing Factors. Dissatisfaction'].value_counts())\n",
    "print(tafe_resignations['Contributing Factors. Job Dissatisfaction'].value_counts())"
   ]
  },
  {
   "cell_type": "markdown",
   "metadata": {},
   "source": [
    "Next, we will update the values in the 'Contributing Factors. Dissatisfaction' and 'Contributing Factors. Job Dissatisfaction' in the tafe_resignations dataframe so that each contains only True, False, or NaN values."
   ]
  },
  {
   "cell_type": "code",
   "execution_count": 16,
   "metadata": {
    "collapsed": false
   },
   "outputs": [
    {
     "data": {
      "text/html": [
       "<div>\n",
       "<style scoped>\n",
       "    .dataframe tbody tr th:only-of-type {\n",
       "        vertical-align: middle;\n",
       "    }\n",
       "\n",
       "    .dataframe tbody tr th {\n",
       "        vertical-align: top;\n",
       "    }\n",
       "\n",
       "    .dataframe thead th {\n",
       "        text-align: right;\n",
       "    }\n",
       "</style>\n",
       "<table border=\"1\" class=\"dataframe\">\n",
       "  <thead>\n",
       "    <tr style=\"text-align: right;\">\n",
       "      <th></th>\n",
       "      <th>Contributing Factors. Dissatisfaction</th>\n",
       "      <th>Contributing Factors. Job Dissatisfaction</th>\n",
       "    </tr>\n",
       "  </thead>\n",
       "  <tbody>\n",
       "    <tr>\n",
       "      <th>3</th>\n",
       "      <td>False</td>\n",
       "      <td>False</td>\n",
       "    </tr>\n",
       "    <tr>\n",
       "      <th>4</th>\n",
       "      <td>False</td>\n",
       "      <td>False</td>\n",
       "    </tr>\n",
       "    <tr>\n",
       "      <th>5</th>\n",
       "      <td>False</td>\n",
       "      <td>False</td>\n",
       "    </tr>\n",
       "    <tr>\n",
       "      <th>6</th>\n",
       "      <td>False</td>\n",
       "      <td>False</td>\n",
       "    </tr>\n",
       "    <tr>\n",
       "      <th>7</th>\n",
       "      <td>False</td>\n",
       "      <td>False</td>\n",
       "    </tr>\n",
       "  </tbody>\n",
       "</table>\n",
       "</div>"
      ],
      "text/plain": [
       "  Contributing Factors. Dissatisfaction  \\\n",
       "3                                 False   \n",
       "4                                 False   \n",
       "5                                 False   \n",
       "6                                 False   \n",
       "7                                 False   \n",
       "\n",
       "  Contributing Factors. Job Dissatisfaction  \n",
       "3                                     False  \n",
       "4                                     False  \n",
       "5                                     False  \n",
       "6                                     False  \n",
       "7                                     False  "
      ]
     },
     "execution_count": 16,
     "metadata": {},
     "output_type": "execute_result"
    }
   ],
   "source": [
    "def update_vals(val):\n",
    "    if pd.isnull(val):\n",
    "        return np.nan\n",
    "    elif val == '-':\n",
    "        return False\n",
    "    else:\n",
    "        return True\n",
    "factors = ['Contributing Factors. Dissatisfaction', 'Contributing Factors. Job Dissatisfaction']\n",
    "tafe_resignations[factors] = tafe_resignations[factors].applymap(update_vals)\n",
    "tafe_resignations[factors].head()"
   ]
  },
  {
   "cell_type": "code",
   "execution_count": 17,
   "metadata": {
    "collapsed": false
   },
   "outputs": [
    {
     "data": {
      "text/plain": [
       "3     False\n",
       "5      True\n",
       "8     False\n",
       "9      True\n",
       "11    False\n",
       "12    False\n",
       "14     True\n",
       "16     True\n",
       "20    False\n",
       "21    False\n",
       "22     True\n",
       "23     True\n",
       "25     True\n",
       "27    False\n",
       "33     True\n",
       "34     True\n",
       "37    False\n",
       "39     True\n",
       "40    False\n",
       "41     True\n",
       "Name: dissatisfied, dtype: bool"
      ]
     },
     "execution_count": 17,
     "metadata": {},
     "output_type": "execute_result"
    }
   ],
   "source": [
    "#Create a dissatisfied column in both the tafe_resignations and dete_resignations dataframes\n",
    "dissati_copy = tafe_resignations[factors].copy()\n",
    "tafe_resignations['dissatisfied'] = dissati_copy.any(axis = 1, skipna = False)\n",
    "dete_factors = ['job_dissatisfaction', 'dissatisfaction_with_the_department', \n",
    "                'physical_work_environment', 'lack_of_recognition',\n",
    "                'lack_of_job_security', 'work_location',\n",
    "                'employment_conditions', 'work_life_balance', 'workload']\n",
    "dete_dissati_copy = dete_resignations[dete_factors].copy()\n",
    "dete_resignations['dissatisfied'] = dete_dissati_copy.any(axis = 1, skipna = False)\n",
    "dete_resignations['dissatisfied'].head(20)"
   ]
  },
  {
   "cell_type": "markdown",
   "metadata": {},
   "source": [
    "After our changes, the new dissatisfied column will contain just the following values:\n",
    "\n",
    "   + True: indicates a person resigned because they were dissatisfied with the job\n",
    "   + False: indicates a person resigned because of a reason other than dissatisfaction with the job\n",
    "   + NaN: indicates the value is missing"
   ]
  },
  {
   "cell_type": "markdown",
   "metadata": {},
   "source": [
    "## Combine the Data\n",
    "\n",
    "To recap, we've accomplished the following:\n",
    "\n",
    "   + Renamed our columns\n",
    "   + Dropped any data not needed for our analysis\n",
    "   + Verified the quality of our data\n",
    "   + Created a new institute_service column\n",
    "   + Cleaned the Contributing Factors columns\n",
    "   + Created a new column indicating if an employee resigned because they were dissatisfied in some way\n",
    "\n",
    "Now, we're finally ready to combine our datasets! Our end goal is to aggregate the data according to the institute_service column, so we will combine the data, and get the data into a form that's easy to aggregate.\n",
    "\n",
    "First, let's add a column to each dataframe that will allow us to easily distinguish between the two."
   ]
  },
  {
   "cell_type": "code",
   "execution_count": 18,
   "metadata": {
    "collapsed": false
   },
   "outputs": [
    {
     "name": "stdout",
     "output_type": "stream",
     "text": [
      "<class 'pandas.core.frame.DataFrame'>\n",
      "Int64Index: 311 entries, 3 to 821\n",
      "Data columns (total 38 columns):\n",
      "id                                     311 non-null int64\n",
      "separationtype                         311 non-null object\n",
      "cease_date                             300 non-null float64\n",
      "dete_start_date                        283 non-null float64\n",
      "role_start_date                        271 non-null float64\n",
      "position                               308 non-null object\n",
      "classification                         161 non-null object\n",
      "region                                 265 non-null object\n",
      "business_unit                          32 non-null object\n",
      "employment_status                      307 non-null object\n",
      "career_move_to_public_sector           311 non-null bool\n",
      "career_move_to_private_sector          311 non-null bool\n",
      "interpersonal_conflicts                311 non-null bool\n",
      "job_dissatisfaction                    311 non-null bool\n",
      "dissatisfaction_with_the_department    311 non-null bool\n",
      "physical_work_environment              311 non-null bool\n",
      "lack_of_recognition                    311 non-null bool\n",
      "lack_of_job_security                   311 non-null bool\n",
      "work_location                          311 non-null bool\n",
      "employment_conditions                  311 non-null bool\n",
      "maternity/family                       311 non-null bool\n",
      "relocation                             311 non-null bool\n",
      "study/travel                           311 non-null bool\n",
      "ill_health                             311 non-null bool\n",
      "traumatic_incident                     311 non-null bool\n",
      "work_life_balance                      311 non-null bool\n",
      "workload                               311 non-null bool\n",
      "none_of_the_above                      311 non-null bool\n",
      "gender                                 302 non-null object\n",
      "age                                    306 non-null object\n",
      "aboriginal                             7 non-null object\n",
      "torres_strait                          0 non-null object\n",
      "south_sea                              3 non-null object\n",
      "disability                             8 non-null object\n",
      "nesb                                   9 non-null object\n",
      "institute_service                      273 non-null float64\n",
      "dissatisfied                           311 non-null bool\n",
      "institute                              311 non-null object\n",
      "dtypes: bool(19), float64(4), int64(1), object(14)\n",
      "memory usage: 54.4+ KB\n",
      "<class 'pandas.core.frame.DataFrame'>\n",
      "Int64Index: 340 entries, 3 to 701\n",
      "Data columns (total 25 columns):\n",
      "id                                                     340 non-null float64\n",
      "Institute                                              340 non-null object\n",
      "WorkArea                                               340 non-null object\n",
      "cease_date                                             335 non-null float64\n",
      "separationtype                                         340 non-null object\n",
      "Contributing Factors. Career Move - Public Sector      332 non-null object\n",
      "Contributing Factors. Career Move - Private Sector     332 non-null object\n",
      "Contributing Factors. Career Move - Self-employment    332 non-null object\n",
      "Contributing Factors. Ill Health                       332 non-null object\n",
      "Contributing Factors. Maternity/Family                 332 non-null object\n",
      "Contributing Factors. Dissatisfaction                  332 non-null object\n",
      "Contributing Factors. Job Dissatisfaction              332 non-null object\n",
      "Contributing Factors. Interpersonal Conflict           332 non-null object\n",
      "Contributing Factors. Study                            332 non-null object\n",
      "Contributing Factors. Travel                           332 non-null object\n",
      "Contributing Factors. Other                            332 non-null object\n",
      "Contributing Factors. NONE                             332 non-null object\n",
      "gender                                                 290 non-null object\n",
      "age                                                    290 non-null object\n",
      "employment_status                                      290 non-null object\n",
      "position                                               290 non-null object\n",
      "institute_service                                      290 non-null object\n",
      "role_service                                           290 non-null object\n",
      "dissatisfied                                           332 non-null object\n",
      "institute                                              340 non-null object\n",
      "dtypes: float64(2), object(23)\n",
      "memory usage: 69.1+ KB\n",
      "Southern Queensland Institute of TAFE    72\n",
      "Brisbane North Institute of TAFE         71\n",
      "Central Queensland Institute of TAFE     65\n",
      "Tropical North Institute of TAFE         38\n",
      "Sunshine Coast Institute of TAFE         33\n",
      "SkillsTech Australia                     21\n",
      "Southbank Institute of Technology        21\n",
      "Barrier Reef Institute of TAFE           10\n",
      "Mount Isa Institute of TAFE               8\n",
      "Wide Bay Institute of TAFE                1\n",
      "Name: Institute, dtype: int64\n",
      "Primary              58\n",
      "Secondary            56\n",
      "A01-A04              19\n",
      "Special Education    13\n",
      "AO5-AO7               7\n",
      "PO1-PO4               3\n",
      "AO8 and Above         3\n",
      "Middle                2\n",
      "Name: classification, dtype: int64\n"
     ]
    }
   ],
   "source": [
    "dete_resignations['institute'] = 'DETE'\n",
    "tafe_resignations['institute'] = 'TAFE'\n",
    "dete_resignations.info()\n",
    "tafe_resignations.info()\n",
    "print(tafe_resignations['Institute'].value_counts())\n",
    "print(dete_resignations['classification'].value_counts())"
   ]
  },
  {
   "cell_type": "markdown",
   "metadata": {},
   "source": [
    "According to the result of dataframe.info() method, dete_resignations dataframe contains several columns that we don't need for our analysis. We need to drop those columns before we combine our datasets. There are 311 rows in dete_resignatoins dataframe, we will set thresh parameter to 250 to filter out the columns with more than 60 missing values when we apply dropna() method.\n",
    "\n",
    "For tafe_resignations dataframe, it seems that we don't need to drop any columns with too many missing values."
   ]
  },
  {
   "cell_type": "code",
   "execution_count": 19,
   "metadata": {
    "collapsed": false
   },
   "outputs": [
    {
     "name": "stdout",
     "output_type": "stream",
     "text": [
      "<class 'pandas.core.frame.DataFrame'>\n",
      "Int64Index: 311 entries, 3 to 821\n",
      "Data columns (total 31 columns):\n",
      "id                                     311 non-null int64\n",
      "separationtype                         311 non-null object\n",
      "cease_date                             300 non-null float64\n",
      "dete_start_date                        283 non-null float64\n",
      "role_start_date                        271 non-null float64\n",
      "position                               308 non-null object\n",
      "region                                 265 non-null object\n",
      "employment_status                      307 non-null object\n",
      "career_move_to_public_sector           311 non-null bool\n",
      "career_move_to_private_sector          311 non-null bool\n",
      "interpersonal_conflicts                311 non-null bool\n",
      "job_dissatisfaction                    311 non-null bool\n",
      "dissatisfaction_with_the_department    311 non-null bool\n",
      "physical_work_environment              311 non-null bool\n",
      "lack_of_recognition                    311 non-null bool\n",
      "lack_of_job_security                   311 non-null bool\n",
      "work_location                          311 non-null bool\n",
      "employment_conditions                  311 non-null bool\n",
      "maternity/family                       311 non-null bool\n",
      "relocation                             311 non-null bool\n",
      "study/travel                           311 non-null bool\n",
      "ill_health                             311 non-null bool\n",
      "traumatic_incident                     311 non-null bool\n",
      "work_life_balance                      311 non-null bool\n",
      "workload                               311 non-null bool\n",
      "none_of_the_above                      311 non-null bool\n",
      "gender                                 302 non-null object\n",
      "age                                    306 non-null object\n",
      "institute_service                      273 non-null float64\n",
      "dissatisfied                           311 non-null bool\n",
      "institute                              311 non-null object\n",
      "dtypes: bool(19), float64(4), int64(1), object(7)\n",
      "memory usage: 37.4+ KB\n"
     ]
    }
   ],
   "source": [
    "dete_resignations = dete_resignations.dropna(thresh = 250, axis = 1)\n",
    "dete_resignations.info()"
   ]
  },
  {
   "cell_type": "markdown",
   "metadata": {},
   "source": [
    "Next, let's combine these two dataframes."
   ]
  },
  {
   "cell_type": "code",
   "execution_count": 20,
   "metadata": {
    "collapsed": false
   },
   "outputs": [
    {
     "name": "stdout",
     "output_type": "stream",
     "text": [
      "<class 'pandas.core.frame.DataFrame'>\n",
      "Int64Index: 651 entries, 3 to 701\n",
      "Data columns (total 46 columns):\n",
      "Contributing Factors. Career Move - Private Sector     332 non-null object\n",
      "Contributing Factors. Career Move - Public Sector      332 non-null object\n",
      "Contributing Factors. Career Move - Self-employment    332 non-null object\n",
      "Contributing Factors. Dissatisfaction                  332 non-null object\n",
      "Contributing Factors. Ill Health                       332 non-null object\n",
      "Contributing Factors. Interpersonal Conflict           332 non-null object\n",
      "Contributing Factors. Job Dissatisfaction              332 non-null object\n",
      "Contributing Factors. Maternity/Family                 332 non-null object\n",
      "Contributing Factors. NONE                             332 non-null object\n",
      "Contributing Factors. Other                            332 non-null object\n",
      "Contributing Factors. Study                            332 non-null object\n",
      "Contributing Factors. Travel                           332 non-null object\n",
      "Institute                                              340 non-null object\n",
      "WorkArea                                               340 non-null object\n",
      "age                                                    596 non-null object\n",
      "career_move_to_private_sector                          311 non-null object\n",
      "career_move_to_public_sector                           311 non-null object\n",
      "cease_date                                             635 non-null float64\n",
      "dete_start_date                                        283 non-null float64\n",
      "dissatisfaction_with_the_department                    311 non-null object\n",
      "dissatisfied                                           643 non-null object\n",
      "employment_conditions                                  311 non-null object\n",
      "employment_status                                      597 non-null object\n",
      "gender                                                 592 non-null object\n",
      "id                                                     651 non-null float64\n",
      "ill_health                                             311 non-null object\n",
      "institute                                              651 non-null object\n",
      "institute_service                                      563 non-null object\n",
      "interpersonal_conflicts                                311 non-null object\n",
      "job_dissatisfaction                                    311 non-null object\n",
      "lack_of_job_security                                   311 non-null object\n",
      "lack_of_recognition                                    311 non-null object\n",
      "maternity/family                                       311 non-null object\n",
      "none_of_the_above                                      311 non-null object\n",
      "physical_work_environment                              311 non-null object\n",
      "position                                               598 non-null object\n",
      "region                                                 265 non-null object\n",
      "relocation                                             311 non-null object\n",
      "role_service                                           290 non-null object\n",
      "role_start_date                                        271 non-null float64\n",
      "separationtype                                         651 non-null object\n",
      "study/travel                                           311 non-null object\n",
      "traumatic_incident                                     311 non-null object\n",
      "work_life_balance                                      311 non-null object\n",
      "work_location                                          311 non-null object\n",
      "workload                                               311 non-null object\n",
      "dtypes: float64(4), object(42)\n",
      "memory usage: 239.0+ KB\n"
     ]
    }
   ],
   "source": [
    "combined = pd.concat([dete_resignations, tafe_resignations])\n",
    "combined.info()"
   ]
  },
  {
   "cell_type": "markdown",
   "metadata": {},
   "source": [
    "## Clean the Service Column\n",
    "\n",
    "Now that we've combined our dataframes, we're almost at a place where we can perform some kind of analysis! First, though, we'll have to clean up the institute_service column. This column is tricky to clean because it currently contains values in a couple different forms."
   ]
  },
  {
   "cell_type": "code",
   "execution_count": 21,
   "metadata": {
    "collapsed": false
   },
   "outputs": [
    {
     "data": {
      "text/plain": [
       "Less than 1 year      73\n",
       "1-2                   64\n",
       "3-4                   63\n",
       "5-6                   33\n",
       "11-20                 26\n",
       "5.0                   23\n",
       "1.0                   22\n",
       "7-10                  21\n",
       "0.0                   20\n",
       "3.0                   20\n",
       "6.0                   17\n",
       "4.0                   16\n",
       "2.0                   14\n",
       "9.0                   14\n",
       "7.0                   13\n",
       "More than 20 years    10\n",
       "8.0                    8\n",
       "13.0                   8\n",
       "20.0                   7\n",
       "15.0                   7\n",
       "10.0                   6\n",
       "12.0                   6\n",
       "14.0                   6\n",
       "17.0                   6\n",
       "22.0                   6\n",
       "16.0                   5\n",
       "18.0                   5\n",
       "11.0                   4\n",
       "24.0                   4\n",
       "23.0                   4\n",
       "19.0                   3\n",
       "21.0                   3\n",
       "39.0                   3\n",
       "32.0                   3\n",
       "25.0                   2\n",
       "26.0                   2\n",
       "28.0                   2\n",
       "30.0                   2\n",
       "36.0                   2\n",
       "27.0                   1\n",
       "29.0                   1\n",
       "33.0                   1\n",
       "35.0                   1\n",
       "38.0                   1\n",
       "31.0                   1\n",
       "41.0                   1\n",
       "42.0                   1\n",
       "49.0                   1\n",
       "34.0                   1\n",
       "Name: institute_service, dtype: int64"
      ]
     },
     "execution_count": 21,
     "metadata": {},
     "output_type": "execute_result"
    }
   ],
   "source": [
    "combined['institute_service'].value_counts()"
   ]
  },
  {
   "cell_type": "markdown",
   "metadata": {},
   "source": [
    "It seems the surveys from DETE and TAFE have different options for the answer  of service length. To analyze the data, we'll convert these numbers into categories. Based on a previous research, we'll use the slightly modified definitions below:\n",
    "   + New: Less than 3 years at a company\n",
    "   + Experienced: 3-6 years at a company\n",
    "   + Established: 7-10 years at a company\n",
    "   + Veteran: 11 or more years at a company\n",
    "\n",
    "Let's categorize the values in the institute_service column using the definitions above."
   ]
  },
  {
   "cell_type": "code",
   "execution_count": 22,
   "metadata": {
    "collapsed": false
   },
   "outputs": [
    {
     "data": {
      "text/plain": [
       "3      7.0\n",
       "5     18.0\n",
       "8      3.0\n",
       "9     15.0\n",
       "11     3.0\n",
       "Name: institute_service, dtype: float64"
      ]
     },
     "execution_count": 22,
     "metadata": {},
     "output_type": "execute_result"
    }
   ],
   "source": [
    "combined['institute_service'] = combined['institute_service'].astype('str').str.extract(r\"([0-9]+)\", expand = False)\n",
    "combined['institute_service'] = combined['institute_service'].astype('float')\n",
    "combined['institute_service'].head()"
   ]
  },
  {
   "cell_type": "markdown",
   "metadata": {
    "collapsed": true
   },
   "source": [
    "Next, we'll map each value to one of the career stage definitions above."
   ]
  },
  {
   "cell_type": "code",
   "execution_count": 23,
   "metadata": {
    "collapsed": false
   },
   "outputs": [
    {
     "data": {
      "text/plain": [
       "3     Established\n",
       "5         Veteran\n",
       "8     Experienced\n",
       "9         Veteran\n",
       "11    Experienced\n",
       "Name: service_cat, dtype: object"
      ]
     },
     "execution_count": 23,
     "metadata": {},
     "output_type": "execute_result"
    }
   ],
   "source": [
    "def trans_to_cat(val):\n",
    "    if pd.isnull(val):\n",
    "        return np.nan\n",
    "    elif val < 3.0:\n",
    "        return 'New'\n",
    "    elif val>=3.0 and val<=6.0:\n",
    "        return 'Experienced'\n",
    "    elif val>=7.0 and val<=10.0:\n",
    "        return 'Established'\n",
    "    elif val>=11.0:\n",
    "        return 'Veteran'\n",
    "combined['service_cat'] = combined['institute_service'].apply(trans_to_cat)\n",
    "combined['service_cat'].head()"
   ]
  },
  {
   "cell_type": "markdown",
   "metadata": {},
   "source": [
    "## Perform Initial Analysis\n",
    "\n",
    "Now, let's finally do our first piece of analysis! Recall that our end goal is to answer the following question:\n",
    "\n",
    "   + Are employees who have only worked for the institutes for a short period of time resigning due to some kind of dissatisfaction? What about employees who have been at the job longer?"
   ]
  },
  {
   "cell_type": "code",
   "execution_count": 24,
   "metadata": {
    "collapsed": false
   },
   "outputs": [
    {
     "name": "stdout",
     "output_type": "stream",
     "text": [
      "<class 'pandas.core.frame.DataFrame'>\n",
      "Int64Index: 651 entries, 3 to 701\n",
      "Data columns (total 47 columns):\n",
      "Contributing Factors. Career Move - Private Sector     332 non-null object\n",
      "Contributing Factors. Career Move - Public Sector      332 non-null object\n",
      "Contributing Factors. Career Move - Self-employment    332 non-null object\n",
      "Contributing Factors. Dissatisfaction                  332 non-null object\n",
      "Contributing Factors. Ill Health                       332 non-null object\n",
      "Contributing Factors. Interpersonal Conflict           332 non-null object\n",
      "Contributing Factors. Job Dissatisfaction              332 non-null object\n",
      "Contributing Factors. Maternity/Family                 332 non-null object\n",
      "Contributing Factors. NONE                             332 non-null object\n",
      "Contributing Factors. Other                            332 non-null object\n",
      "Contributing Factors. Study                            332 non-null object\n",
      "Contributing Factors. Travel                           332 non-null object\n",
      "Institute                                              340 non-null object\n",
      "WorkArea                                               340 non-null object\n",
      "age                                                    596 non-null object\n",
      "career_move_to_private_sector                          311 non-null object\n",
      "career_move_to_public_sector                           311 non-null object\n",
      "cease_date                                             635 non-null float64\n",
      "dete_start_date                                        283 non-null float64\n",
      "dissatisfaction_with_the_department                    311 non-null object\n",
      "dissatisfied                                           643 non-null object\n",
      "employment_conditions                                  311 non-null object\n",
      "employment_status                                      597 non-null object\n",
      "gender                                                 592 non-null object\n",
      "id                                                     651 non-null float64\n",
      "ill_health                                             311 non-null object\n",
      "institute                                              651 non-null object\n",
      "institute_service                                      563 non-null float64\n",
      "interpersonal_conflicts                                311 non-null object\n",
      "job_dissatisfaction                                    311 non-null object\n",
      "lack_of_job_security                                   311 non-null object\n",
      "lack_of_recognition                                    311 non-null object\n",
      "maternity/family                                       311 non-null object\n",
      "none_of_the_above                                      311 non-null object\n",
      "physical_work_environment                              311 non-null object\n",
      "position                                               598 non-null object\n",
      "region                                                 265 non-null object\n",
      "relocation                                             311 non-null object\n",
      "role_service                                           290 non-null object\n",
      "role_start_date                                        271 non-null float64\n",
      "separationtype                                         651 non-null object\n",
      "study/travel                                           311 non-null object\n",
      "traumatic_incident                                     311 non-null object\n",
      "work_life_balance                                      311 non-null object\n",
      "work_location                                          311 non-null object\n",
      "workload                                               311 non-null object\n",
      "service_cat                                            563 non-null object\n",
      "dtypes: float64(5), object(42)\n",
      "memory usage: 244.1+ KB\n"
     ]
    }
   ],
   "source": [
    "combined.info()"
   ]
  },
  {
   "cell_type": "code",
   "execution_count": 25,
   "metadata": {
    "collapsed": false
   },
   "outputs": [
    {
     "data": {
      "text/plain": [
       "False    403\n",
       "True     240\n",
       "NaN        8\n",
       "Name: dissatisfied, dtype: int64"
      ]
     },
     "execution_count": 25,
     "metadata": {},
     "output_type": "execute_result"
    }
   ],
   "source": [
    "combined['dissatisfied'].value_counts(dropna = False)"
   ]
  },
  {
   "cell_type": "markdown",
   "metadata": {},
   "source": [
    "The 'dissatisfied' column contain 8 missing values. While False are the majority values, we will fill the missing values with False. Then dataframe.pivot_table() method will be used to analyze the percentage of dissatisfied employees of each career stage group. Methods such as the dataframe.pivot_table() method actually treat Boolean values as integers, so a True value is considered to be 1 and a False value is considered to be 0. Calculating the mean will also calculate the percentage of dissatisfied employees. At last, we can plot the results with bar plot."
   ]
  },
  {
   "cell_type": "code",
   "execution_count": 26,
   "metadata": {
    "collapsed": false
   },
   "outputs": [
    {
     "data": {
      "text/plain": [
       "False    411\n",
       "True     240\n",
       "Name: dissatisfied, dtype: int64"
      ]
     },
     "execution_count": 26,
     "metadata": {},
     "output_type": "execute_result"
    }
   ],
   "source": [
    "combined['dissatisfied'] = combined['dissatisfied'].fillna(False)\n",
    "combined['dissatisfied'].value_counts()"
   ]
  },
  {
   "cell_type": "code",
   "execution_count": 27,
   "metadata": {
    "collapsed": false
   },
   "outputs": [
    {
     "data": {
      "text/plain": [
       "<matplotlib.axes._subplots.AxesSubplot at 0x7f0a449f0a20>"
      ]
     },
     "execution_count": 27,
     "metadata": {},
     "output_type": "execute_result"
    },
    {
     "data": {
      "image/png": "[encoded data removed]",
      "text/plain": [
       "<matplotlib.figure.Figure at 0x7f0a449dcf60>"
      ]
     },
     "metadata": {},
     "output_type": "display_data"
    }
   ],
   "source": [
    "dissat_per=combined.pivot_table(values='dissatisfied', index='service_cat', aggfunc=np.mean)\n",
    "\n",
    "%matplotlib inline\n",
    "dissat_per.plot(kind = 'bar', title='Percentage of dissatisfied employees per group')"
   ]
  },
  {
   "cell_type": "markdown",
   "metadata": {},
   "source": [
    "From the above bar chart, we noticed that less employees who work for the institute for a short period resigned due to dissatisfaction, while more employees working for a long period for the institute turned to resign because they were dissatisfied in some way. "
   ]
  }
 ],
 "metadata": {
  "kernelspec": {
   "display_name": "Python 3",
   "language": "python",
   "name": "python3"
  },
  "language_info": {
   "codemirror_mode": {
    "name": "ipython",
    "version": 3
   },
   "file_extension": ".py",
   "mimetype": "text/x-python",
   "name": "python",
   "nbconvert_exporter": "python",
   "pygments_lexer": "ipython3",
   "version": "3.4.3"
  }
 },
 "nbformat": 4,
 "nbformat_minor": 2
}
